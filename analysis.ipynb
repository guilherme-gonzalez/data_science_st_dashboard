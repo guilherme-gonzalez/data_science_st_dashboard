{
 "cells": [
  {
   "cell_type": "code",
   "execution_count": 61,
   "metadata": {},
   "outputs": [],
   "source": [
    "import polars as pl\n",
    "import s3fs\n",
    "\n",
    "# Create a S3FileSystem instance\n",
    "fs = s3fs.S3FileSystem()\n",
    "\n",
    "# Specify your bucket and file key\n",
    "bucket_name = \"arn:aws:s3:us-east-1:311598230231:accesspoint/accesspoint1\"\n",
    "csv_key = \"s3_ds_salaries.csv\"\n",
    "\n",
    "# Use Polars to read the CSV file from S3\n",
    "with fs.open(f\"{bucket_name}/{csv_key}\", mode=\"rb\") as f:\n",
    "    df = pl.read_csv(f)\n"
   ]
  },
  {
   "cell_type": "code",
   "execution_count": null,
   "metadata": {},
   "outputs": [],
   "source": [
    "df.describe()"
   ]
  },
  {
   "cell_type": "code",
   "execution_count": 62,
   "metadata": {},
   "outputs": [],
   "source": [
    "\"\"\"\n",
    "if job_title contains 'data engineer' then job_group = 'data engineer'\n",
    "elif job_title contains 'analytics engineer' then job_group = 'analytics engineer'\n",
    "elif job_title contains 'BI' or 'Analyst' or 'Business' then job_group = 'data analyst'\n",
    "elif job_title contains 'ML' or 'machine learning' then job_group = 'ML engineer'\n",
    "elif job_title contains 'scientist' or 'research' then job_group = 'Data Scientist'\n",
    "\"\"\"\n",
    "df = df.with_columns(\n",
    "    pl.when(pl.col(\"job_title\").str.contains(\"Data Engineer|Database Engineer|Data Operations Engineer|Data DevOps Engineer|Infrastructure|Database|ETL\"))\n",
    "    .then(pl.lit(\"Data Engineer\"))\n",
    "    .when(pl.col(\"job_title\").str.contains(\"Analytics Engineer\"))\n",
    "    .then(pl.lit(\"Analytics engineer\"))\n",
    "    .when(pl.col(\"job_title\").str.contains(\"BI|Analyst|Business\"))\n",
    "    .then(pl.lit(\"Data Analyst\"))\n",
    "    .when(pl.col(\"job_title\").str.contains(\"ML|Machine Learning Engineer|Machine Learning Developer|AI Programmer|AI Developer|Computer Vision|Machine Learning Software Engineer|Deep Learning EngineerDeep Learning Engineer|NLP Engineer|Deep Learning Engineer|Data Science Engineer\"))\n",
    "    .then(pl.lit(\"ML engineer\"))\n",
    "    .when(pl.col(\"job_title\").str.contains(\"Scientist|Research\"))\n",
    "    .then(pl.lit(\"Data Scientist\"))\n",
    "    .when(pl.col(\"job_title\").str.contains(\"Manager|Management|Lead|Head|Director\"))\n",
    "    .then(pl.lit(\"Data Lead\"))\n",
    "    .when(pl.col(\"job_title\").str.contains(\"Data Architect\"))\n",
    "    .then(pl.lit(\"Data Architect\"))\n",
    "    .when(pl.col(\"job_title\").str.contains(\"Data Science Consultant|Data Analytics Consultant\"))\n",
    "    .then(pl.lit(\"Consultant\"))\n",
    "    .otherwise(pl.lit(\"Other\"))\n",
    "    .alias(\"job_group\")\n",
    ")"
   ]
  },
  {
   "cell_type": "code",
   "execution_count": null,
   "metadata": {},
   "outputs": [],
   "source": [
    "# Assuming df is your polars DataFrame\n",
    "filtered_df = df.filter(df['job_group'] == 'Other')['job_title'].unique()\n",
    "\n",
    "# Convert the Series to a DataFrame with a single column\n",
    "unique_job_titles_df = pl.DataFrame({'job_title': filtered_df})\n",
    "\n",
    "# Write the unique job titles to a CSV file\n",
    "unique_job_titles_df.write_csv('otherjobtitles.csv')"
   ]
  },
  {
   "cell_type": "code",
   "execution_count": null,
   "metadata": {},
   "outputs": [],
   "source": [
    "\"\"\"\n",
    "\"EX\" means executive\n",
    "\"EN\" means entry-level\n",
    "\"SE\" means senior\n",
    "\"MI\" means mid-level\n",
    "\"\"\"\n",
    "df['experience_level'].unique()"
   ]
  },
  {
   "cell_type": "code",
   "execution_count": null,
   "metadata": {},
   "outputs": [],
   "source": [
    "\"\"\"\n",
    "\"CT\" means contract\n",
    "\"FL\" means freelance\n",
    "\"FT\" means full-time\n",
    "\"PT\" means part-time\n",
    "\"\"\"\n",
    "df['employment_type'].unique()"
   ]
  },
  {
   "cell_type": "code",
   "execution_count": 63,
   "metadata": {},
   "outputs": [],
   "source": [
    "df = df.with_columns(\n",
    "    pl.when(pl.col(\"experience_level\").str.contains(\"SE\")).then(pl.lit(\"senior\"))\n",
    "    .when(pl.col(\"experience_level\").str.contains(\"MI\")).then(pl.lit(\"mid-level\"))\n",
    "    .when(pl.col(\"experience_level\").str.contains(\"EN\")).then(pl.lit(\"entry-level\"))\n",
    "    .when(pl.col(\"experience_level\").str.contains(\"EX\")).then(pl.lit(\"executive\"))\n",
    "    .otherwise(pl.lit(\"Other\"))\n",
    "    .alias(\"_experience_level\")\n",
    ")"
   ]
  },
  {
   "cell_type": "code",
   "execution_count": 64,
   "metadata": {},
   "outputs": [],
   "source": [
    "df = df.with_columns(\n",
    "    pl.when(pl.col(\"employment_type\").str.contains(\"CT\")).then(pl.lit(\"contract\"))\n",
    "    .when(pl.col(\"employment_type\").str.contains(\"FL\")).then(pl.lit(\"freelance\"))\n",
    "    .when(pl.col(\"employment_type\").str.contains(\"FT\")).then(pl.lit(\"full-time\"))\n",
    "    .when(pl.col(\"employment_type\").str.contains(\"PT\")).then(pl.lit(\"part-time\"))\n",
    "    .otherwise(pl.lit(\"Other\"))\n",
    "    .alias(\"_employment_type\")\n",
    ")"
   ]
  },
  {
   "cell_type": "code",
   "execution_count": 65,
   "metadata": {},
   "outputs": [],
   "source": [
    "df = df.with_columns(\n",
    "    pl.when(pl.col(\"remote_ratio\") < 50).then(pl.lit(\"on-site\"))\n",
    "    .when(pl.col(\"remote_ratio\") < 100).then(pl.lit(\"hybrid\"))\n",
    "    .when(pl.col(\"remote_ratio\")>= 100).then(pl.lit(\"remote\"))\n",
    "    .alias(\"_remote_ratio\")\n",
    ")"
   ]
  },
  {
   "cell_type": "code",
   "execution_count": null,
   "metadata": {},
   "outputs": [],
   "source": [
    "df['remote_ratio'].unique()"
   ]
  },
  {
   "cell_type": "code",
   "execution_count": null,
   "metadata": {},
   "outputs": [],
   "source": [
    "df"
   ]
  },
  {
   "cell_type": "code",
   "execution_count": null,
   "metadata": {},
   "outputs": [],
   "source": [
    "df['company_location'].unique()"
   ]
  },
  {
   "cell_type": "code",
   "execution_count": null,
   "metadata": {},
   "outputs": [],
   "source": [
    "grouped_df= df.group_by('job_group').agg(\n",
    "    pl.col('salary_in_usd').mean()\n",
    ")\n",
    "grouped_df2 = df.group_by('job_group').agg(\n",
    "    pl.col('salary_in_usd').median()\n",
    ")"
   ]
  },
  {
   "cell_type": "code",
   "execution_count": null,
   "metadata": {},
   "outputs": [],
   "source": [
    "grouped_df.sort('salary_in_usd').reverse()"
   ]
  },
  {
   "cell_type": "code",
   "execution_count": null,
   "metadata": {},
   "outputs": [],
   "source": [
    "grouped_df2.sort('salary_in_usd').reverse()"
   ]
  },
  {
   "cell_type": "code",
   "execution_count": null,
   "metadata": {},
   "outputs": [],
   "source": [
    "ss =df['salary_in_usd'].mean()"
   ]
  },
  {
   "cell_type": "code",
   "execution_count": null,
   "metadata": {},
   "outputs": [],
   "source": [
    "print(ss)"
   ]
  },
  {
   "cell_type": "code",
   "execution_count": 66,
   "metadata": {},
   "outputs": [],
   "source": [
    "filtered_columns = df[['work_year','salary_in_usd','employee_residence','company_size','job_group','_experience_level','_employment_type','_remote_ratio']]"
   ]
  },
  {
   "cell_type": "code",
   "execution_count": 67,
   "metadata": {},
   "outputs": [
    {
     "data": {
      "text/html": [
       "<div><style>\n",
       ".dataframe > thead > tr > th,\n",
       ".dataframe > tbody > tr > td {\n",
       "  text-align: right;\n",
       "  white-space: pre-wrap;\n",
       "}\n",
       "</style>\n",
       "<small>shape: (3_755, 8)</small><table border=\"1\" class=\"dataframe\"><thead><tr><th>work_year</th><th>salary_in_usd</th><th>employee_residence</th><th>company_size</th><th>job_group</th><th>_experience_level</th><th>_employment_type</th><th>_remote_ratio</th></tr><tr><td>i64</td><td>i64</td><td>str</td><td>str</td><td>str</td><td>str</td><td>str</td><td>str</td></tr></thead><tbody><tr><td>2023</td><td>85847</td><td>&quot;ES&quot;</td><td>&quot;L&quot;</td><td>&quot;Data Scientist…</td><td>&quot;senior&quot;</td><td>&quot;full-time&quot;</td><td>&quot;remote&quot;</td></tr><tr><td>2023</td><td>30000</td><td>&quot;US&quot;</td><td>&quot;S&quot;</td><td>&quot;ML engineer&quot;</td><td>&quot;mid-level&quot;</td><td>&quot;contract&quot;</td><td>&quot;remote&quot;</td></tr><tr><td>2023</td><td>25500</td><td>&quot;US&quot;</td><td>&quot;S&quot;</td><td>&quot;ML engineer&quot;</td><td>&quot;mid-level&quot;</td><td>&quot;contract&quot;</td><td>&quot;remote&quot;</td></tr><tr><td>2023</td><td>175000</td><td>&quot;CA&quot;</td><td>&quot;M&quot;</td><td>&quot;Data Scientist…</td><td>&quot;senior&quot;</td><td>&quot;full-time&quot;</td><td>&quot;remote&quot;</td></tr><tr><td>2023</td><td>120000</td><td>&quot;CA&quot;</td><td>&quot;M&quot;</td><td>&quot;Data Scientist…</td><td>&quot;senior&quot;</td><td>&quot;full-time&quot;</td><td>&quot;remote&quot;</td></tr><tr><td>2023</td><td>222200</td><td>&quot;US&quot;</td><td>&quot;L&quot;</td><td>&quot;Data Scientist…</td><td>&quot;senior&quot;</td><td>&quot;full-time&quot;</td><td>&quot;on-site&quot;</td></tr><tr><td>2023</td><td>136000</td><td>&quot;US&quot;</td><td>&quot;L&quot;</td><td>&quot;Data Scientist…</td><td>&quot;senior&quot;</td><td>&quot;full-time&quot;</td><td>&quot;on-site&quot;</td></tr><tr><td>2023</td><td>219000</td><td>&quot;CA&quot;</td><td>&quot;M&quot;</td><td>&quot;Data Scientist…</td><td>&quot;senior&quot;</td><td>&quot;full-time&quot;</td><td>&quot;on-site&quot;</td></tr><tr><td>2023</td><td>141000</td><td>&quot;CA&quot;</td><td>&quot;M&quot;</td><td>&quot;Data Scientist…</td><td>&quot;senior&quot;</td><td>&quot;full-time&quot;</td><td>&quot;on-site&quot;</td></tr><tr><td>2023</td><td>147100</td><td>&quot;US&quot;</td><td>&quot;M&quot;</td><td>&quot;Data Scientist…</td><td>&quot;senior&quot;</td><td>&quot;full-time&quot;</td><td>&quot;on-site&quot;</td></tr><tr><td>2023</td><td>90700</td><td>&quot;US&quot;</td><td>&quot;M&quot;</td><td>&quot;Data Scientist…</td><td>&quot;senior&quot;</td><td>&quot;full-time&quot;</td><td>&quot;on-site&quot;</td></tr><tr><td>2023</td><td>130000</td><td>&quot;US&quot;</td><td>&quot;M&quot;</td><td>&quot;Data Analyst&quot;</td><td>&quot;senior&quot;</td><td>&quot;full-time&quot;</td><td>&quot;remote&quot;</td></tr><tr><td>&hellip;</td><td>&hellip;</td><td>&hellip;</td><td>&hellip;</td><td>&hellip;</td><td>&hellip;</td><td>&hellip;</td><td>&hellip;</td></tr><tr><td>2020</td><td>130800</td><td>&quot;ES&quot;</td><td>&quot;M&quot;</td><td>&quot;Data Engineer&quot;</td><td>&quot;mid-level&quot;</td><td>&quot;full-time&quot;</td><td>&quot;remote&quot;</td></tr><tr><td>2020</td><td>45618</td><td>&quot;HR&quot;</td><td>&quot;S&quot;</td><td>&quot;ML engineer&quot;</td><td>&quot;senior&quot;</td><td>&quot;full-time&quot;</td><td>&quot;remote&quot;</td></tr><tr><td>2021</td><td>168000</td><td>&quot;JP&quot;</td><td>&quot;S&quot;</td><td>&quot;Data Lead&quot;</td><td>&quot;senior&quot;</td><td>&quot;full-time&quot;</td><td>&quot;on-site&quot;</td></tr><tr><td>2021</td><td>119059</td><td>&quot;SG&quot;</td><td>&quot;M&quot;</td><td>&quot;Data Scientist…</td><td>&quot;mid-level&quot;</td><td>&quot;full-time&quot;</td><td>&quot;remote&quot;</td></tr><tr><td>2021</td><td>423000</td><td>&quot;US&quot;</td><td>&quot;L&quot;</td><td>&quot;Data Scientist…</td><td>&quot;mid-level&quot;</td><td>&quot;full-time&quot;</td><td>&quot;hybrid&quot;</td></tr><tr><td>2021</td><td>28369</td><td>&quot;MT&quot;</td><td>&quot;L&quot;</td><td>&quot;Data Engineer&quot;</td><td>&quot;mid-level&quot;</td><td>&quot;full-time&quot;</td><td>&quot;hybrid&quot;</td></tr><tr><td>2021</td><td>165000</td><td>&quot;US&quot;</td><td>&quot;L&quot;</td><td>&quot;Other&quot;</td><td>&quot;senior&quot;</td><td>&quot;full-time&quot;</td><td>&quot;remote&quot;</td></tr><tr><td>2020</td><td>412000</td><td>&quot;US&quot;</td><td>&quot;L&quot;</td><td>&quot;Data Scientist…</td><td>&quot;senior&quot;</td><td>&quot;full-time&quot;</td><td>&quot;remote&quot;</td></tr><tr><td>2021</td><td>151000</td><td>&quot;US&quot;</td><td>&quot;L&quot;</td><td>&quot;Data Scientist…</td><td>&quot;mid-level&quot;</td><td>&quot;full-time&quot;</td><td>&quot;remote&quot;</td></tr><tr><td>2020</td><td>105000</td><td>&quot;US&quot;</td><td>&quot;S&quot;</td><td>&quot;Data Scientist…</td><td>&quot;entry-level&quot;</td><td>&quot;full-time&quot;</td><td>&quot;remote&quot;</td></tr><tr><td>2020</td><td>100000</td><td>&quot;US&quot;</td><td>&quot;L&quot;</td><td>&quot;Data Analyst&quot;</td><td>&quot;entry-level&quot;</td><td>&quot;contract&quot;</td><td>&quot;remote&quot;</td></tr><tr><td>2021</td><td>94665</td><td>&quot;IN&quot;</td><td>&quot;L&quot;</td><td>&quot;Data Lead&quot;</td><td>&quot;senior&quot;</td><td>&quot;full-time&quot;</td><td>&quot;hybrid&quot;</td></tr></tbody></table></div>"
      ],
      "text/plain": [
       "shape: (3_755, 8)\n",
       "┌───────────┬────────────┬────────────┬────────────┬───────────┬───────────┬───────────┬───────────┐\n",
       "│ work_year ┆ salary_in_ ┆ employee_r ┆ company_si ┆ job_group ┆ _experien ┆ _employme ┆ _remote_r │\n",
       "│ ---       ┆ usd        ┆ esidence   ┆ ze         ┆ ---       ┆ ce_level  ┆ nt_type   ┆ atio      │\n",
       "│ i64       ┆ ---        ┆ ---        ┆ ---        ┆ str       ┆ ---       ┆ ---       ┆ ---       │\n",
       "│           ┆ i64        ┆ str        ┆ str        ┆           ┆ str       ┆ str       ┆ str       │\n",
       "╞═══════════╪════════════╪════════════╪════════════╪═══════════╪═══════════╪═══════════╪═══════════╡\n",
       "│ 2023      ┆ 85847      ┆ ES         ┆ L          ┆ Data      ┆ senior    ┆ full-time ┆ remote    │\n",
       "│           ┆            ┆            ┆            ┆ Scientist ┆           ┆           ┆           │\n",
       "│ 2023      ┆ 30000      ┆ US         ┆ S          ┆ ML        ┆ mid-level ┆ contract  ┆ remote    │\n",
       "│           ┆            ┆            ┆            ┆ engineer  ┆           ┆           ┆           │\n",
       "│ 2023      ┆ 25500      ┆ US         ┆ S          ┆ ML        ┆ mid-level ┆ contract  ┆ remote    │\n",
       "│           ┆            ┆            ┆            ┆ engineer  ┆           ┆           ┆           │\n",
       "│ 2023      ┆ 175000     ┆ CA         ┆ M          ┆ Data      ┆ senior    ┆ full-time ┆ remote    │\n",
       "│           ┆            ┆            ┆            ┆ Scientist ┆           ┆           ┆           │\n",
       "│ …         ┆ …          ┆ …          ┆ …          ┆ …         ┆ …         ┆ …         ┆ …         │\n",
       "│ 2021      ┆ 151000     ┆ US         ┆ L          ┆ Data      ┆ mid-level ┆ full-time ┆ remote    │\n",
       "│           ┆            ┆            ┆            ┆ Scientist ┆           ┆           ┆           │\n",
       "│ 2020      ┆ 105000     ┆ US         ┆ S          ┆ Data      ┆ entry-lev ┆ full-time ┆ remote    │\n",
       "│           ┆            ┆            ┆            ┆ Scientist ┆ el        ┆           ┆           │\n",
       "│ 2020      ┆ 100000     ┆ US         ┆ L          ┆ Data      ┆ entry-lev ┆ contract  ┆ remote    │\n",
       "│           ┆            ┆            ┆            ┆ Analyst   ┆ el        ┆           ┆           │\n",
       "│ 2021      ┆ 94665      ┆ IN         ┆ L          ┆ Data Lead ┆ senior    ┆ full-time ┆ hybrid    │\n",
       "└───────────┴────────────┴────────────┴────────────┴───────────┴───────────┴───────────┴───────────┘"
      ]
     },
     "execution_count": 67,
     "metadata": {},
     "output_type": "execute_result"
    }
   ],
   "source": [
    "filtered_columns"
   ]
  },
  {
   "cell_type": "code",
   "execution_count": 68,
   "metadata": {},
   "outputs": [],
   "source": [
    "filtered_columns.write_csv('output.csv')"
   ]
  },
  {
   "cell_type": "code",
   "execution_count": null,
   "metadata": {},
   "outputs": [],
   "source": [
    "import matplotlib.pyplot as plt\n",
    "\n",
    "# Create a list to store data\n",
    "data = []\n",
    "\n",
    "# Get unique job groups\n",
    "job_groups = filtered_columns['job_group'].unique()\n",
    "\n",
    "# For each job group, filter the data and append to the list\n",
    "for job in job_groups:\n",
    "    data.append(filtered_columns.filter(filtered_columns['job_group'] == job)['salary_in_usd'].to_list())\n",
    "\n",
    "# Create the boxplot\n",
    "plt.figure(figsize=(10,6))\n",
    "plt.xticks(rotation=90)\n",
    "plt.boxplot(data, labels=job_groups)\n",
    "plt.title('Boxplot of salary_in_usd by job_group')\n",
    "plt.xlabel('Job Group')\n",
    "plt.ylabel('Salary in USD')\n",
    "plt.show()\n"
   ]
  }
 ],
 "metadata": {
  "kernelspec": {
   "display_name": "Python 3",
   "language": "python",
   "name": "python3"
  },
  "language_info": {
   "codemirror_mode": {
    "name": "ipython",
    "version": 3
   },
   "file_extension": ".py",
   "mimetype": "text/x-python",
   "name": "python",
   "nbconvert_exporter": "python",
   "pygments_lexer": "ipython3",
   "version": "3.11.1"
  }
 },
 "nbformat": 4,
 "nbformat_minor": 2
}
